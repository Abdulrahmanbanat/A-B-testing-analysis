{
 "cells": [
  {
   "cell_type": "code",
   "execution_count": null,
   "id": "a72f46ca",
   "metadata": {},
   "outputs": [],
   "source": [
    "import numpy as np\n",
    "import pandas as pd\n",
    "import matplotlib.pyplot as plt\n",
    "import seaborn as sns\n",
    "from scipy import stats"
   ]
  },
  {
   "cell_type": "markdown",
   "id": "d2b28912",
   "metadata": {},
   "source": [
    "Load Dataset"
   ]
  },
  {
   "cell_type": "code",
   "execution_count": 70,
   "id": "241ef694",
   "metadata": {},
   "outputs": [],
   "source": [
    "#read csv file\n",
    "data = pd.read_csv(r\"D:\\Abdulrahman\\Advanced Data Anaysis\\Projects\\The Power Of Statistics\\ab_data.csv\")"
   ]
  },
  {
   "cell_type": "code",
   "execution_count": 71,
   "id": "42e9cf55",
   "metadata": {},
   "outputs": [
    {
     "data": {
      "text/html": [
       "<div>\n",
       "<style scoped>\n",
       "    .dataframe tbody tr th:only-of-type {\n",
       "        vertical-align: middle;\n",
       "    }\n",
       "\n",
       "    .dataframe tbody tr th {\n",
       "        vertical-align: top;\n",
       "    }\n",
       "\n",
       "    .dataframe thead th {\n",
       "        text-align: right;\n",
       "    }\n",
       "</style>\n",
       "<table border=\"1\" class=\"dataframe\">\n",
       "  <thead>\n",
       "    <tr style=\"text-align: right;\">\n",
       "      <th></th>\n",
       "      <th>user_id</th>\n",
       "      <th>timestamp</th>\n",
       "      <th>group</th>\n",
       "      <th>landing_page</th>\n",
       "      <th>converted</th>\n",
       "    </tr>\n",
       "  </thead>\n",
       "  <tbody>\n",
       "    <tr>\n",
       "      <th>0</th>\n",
       "      <td>851104</td>\n",
       "      <td>2017-01-21 22:11:48.556739</td>\n",
       "      <td>control</td>\n",
       "      <td>old_page</td>\n",
       "      <td>0</td>\n",
       "    </tr>\n",
       "    <tr>\n",
       "      <th>1</th>\n",
       "      <td>804228</td>\n",
       "      <td>2017-01-12 08:01:45.159739</td>\n",
       "      <td>control</td>\n",
       "      <td>old_page</td>\n",
       "      <td>0</td>\n",
       "    </tr>\n",
       "    <tr>\n",
       "      <th>2</th>\n",
       "      <td>661590</td>\n",
       "      <td>2017-01-11 16:55:06.154213</td>\n",
       "      <td>treatment</td>\n",
       "      <td>new_page</td>\n",
       "      <td>0</td>\n",
       "    </tr>\n",
       "    <tr>\n",
       "      <th>3</th>\n",
       "      <td>853541</td>\n",
       "      <td>2017-01-08 18:28:03.143765</td>\n",
       "      <td>treatment</td>\n",
       "      <td>new_page</td>\n",
       "      <td>0</td>\n",
       "    </tr>\n",
       "    <tr>\n",
       "      <th>4</th>\n",
       "      <td>864975</td>\n",
       "      <td>2017-01-21 01:52:26.210827</td>\n",
       "      <td>control</td>\n",
       "      <td>old_page</td>\n",
       "      <td>1</td>\n",
       "    </tr>\n",
       "    <tr>\n",
       "      <th>5</th>\n",
       "      <td>936923</td>\n",
       "      <td>2017-01-10 15:20:49.083499</td>\n",
       "      <td>control</td>\n",
       "      <td>old_page</td>\n",
       "      <td>0</td>\n",
       "    </tr>\n",
       "    <tr>\n",
       "      <th>6</th>\n",
       "      <td>679687</td>\n",
       "      <td>2017-01-19 03:26:46.940749</td>\n",
       "      <td>treatment</td>\n",
       "      <td>new_page</td>\n",
       "      <td>1</td>\n",
       "    </tr>\n",
       "    <tr>\n",
       "      <th>7</th>\n",
       "      <td>719014</td>\n",
       "      <td>2017-01-17 01:48:29.539573</td>\n",
       "      <td>control</td>\n",
       "      <td>old_page</td>\n",
       "      <td>0</td>\n",
       "    </tr>\n",
       "    <tr>\n",
       "      <th>8</th>\n",
       "      <td>817355</td>\n",
       "      <td>2017-01-04 17:58:08.979471</td>\n",
       "      <td>treatment</td>\n",
       "      <td>new_page</td>\n",
       "      <td>1</td>\n",
       "    </tr>\n",
       "    <tr>\n",
       "      <th>9</th>\n",
       "      <td>839785</td>\n",
       "      <td>2017-01-15 18:11:06.610965</td>\n",
       "      <td>treatment</td>\n",
       "      <td>new_page</td>\n",
       "      <td>1</td>\n",
       "    </tr>\n",
       "  </tbody>\n",
       "</table>\n",
       "</div>"
      ],
      "text/plain": [
       "   user_id                   timestamp      group landing_page  converted\n",
       "0   851104  2017-01-21 22:11:48.556739    control     old_page          0\n",
       "1   804228  2017-01-12 08:01:45.159739    control     old_page          0\n",
       "2   661590  2017-01-11 16:55:06.154213  treatment     new_page          0\n",
       "3   853541  2017-01-08 18:28:03.143765  treatment     new_page          0\n",
       "4   864975  2017-01-21 01:52:26.210827    control     old_page          1\n",
       "5   936923  2017-01-10 15:20:49.083499    control     old_page          0\n",
       "6   679687  2017-01-19 03:26:46.940749  treatment     new_page          1\n",
       "7   719014  2017-01-17 01:48:29.539573    control     old_page          0\n",
       "8   817355  2017-01-04 17:58:08.979471  treatment     new_page          1\n",
       "9   839785  2017-01-15 18:11:06.610965  treatment     new_page          1"
      ]
     },
     "execution_count": 71,
     "metadata": {},
     "output_type": "execute_result"
    }
   ],
   "source": [
    "#display first 10 columns\n",
    "data.head(10)"
   ]
  },
  {
   "cell_type": "code",
   "execution_count": 72,
   "id": "8f5b3547",
   "metadata": {},
   "outputs": [
    {
     "name": "stdout",
     "output_type": "stream",
     "text": [
      "<class 'pandas.core.frame.DataFrame'>\n",
      "RangeIndex: 294478 entries, 0 to 294477\n",
      "Data columns (total 5 columns):\n",
      " #   Column        Non-Null Count   Dtype \n",
      "---  ------        --------------   ----- \n",
      " 0   user_id       294478 non-null  int64 \n",
      " 1   timestamp     294478 non-null  object\n",
      " 2   group         294478 non-null  object\n",
      " 3   landing_page  294478 non-null  object\n",
      " 4   converted     294478 non-null  int64 \n",
      "dtypes: int64(2), object(3)\n",
      "memory usage: 11.2+ MB\n"
     ]
    }
   ],
   "source": [
    "#display basic information about the data such as the number of non-empty values, data type, etc.\n",
    "data.info()"
   ]
  },
  {
   "cell_type": "code",
   "execution_count": 73,
   "id": "03b03426",
   "metadata": {},
   "outputs": [
    {
     "data": {
      "text/plain": [
       "Index(['user_id', 'timestamp', 'group', 'landing_page', 'converted'], dtype='object')"
      ]
     },
     "execution_count": 73,
     "metadata": {},
     "output_type": "execute_result"
    }
   ],
   "source": [
    "#display columns name\n",
    "data.columns"
   ]
  },
  {
   "cell_type": "code",
   "execution_count": 74,
   "id": "e0ba7595",
   "metadata": {},
   "outputs": [
    {
     "data": {
      "text/plain": [
       "user_id         0\n",
       "timestamp       0\n",
       "group           0\n",
       "landing_page    0\n",
       "converted       0\n",
       "dtype: int64"
      ]
     },
     "execution_count": 74,
     "metadata": {},
     "output_type": "execute_result"
    }
   ],
   "source": [
    "#check for missing value\n",
    "data.isna().sum()"
   ]
  },
  {
   "cell_type": "code",
   "execution_count": 75,
   "id": "111cea07",
   "metadata": {},
   "outputs": [
    {
     "data": {
      "text/plain": [
       "0"
      ]
     },
     "execution_count": 75,
     "metadata": {},
     "output_type": "execute_result"
    }
   ],
   "source": [
    "#check for duplicated data\n",
    "data.duplicated().sum()"
   ]
  },
  {
   "cell_type": "markdown",
   "id": "05a00c46",
   "metadata": {},
   "source": [
    "Data Cleaning"
   ]
  },
  {
   "cell_type": "code",
   "execution_count": 76,
   "id": "0538be2b",
   "metadata": {},
   "outputs": [],
   "source": [
    "# Change column name group to group_type\n",
    "data = data.rename(columns= {'group':'group_type'})"
   ]
  },
  {
   "cell_type": "code",
   "execution_count": 77,
   "id": "6e4e1f43",
   "metadata": {},
   "outputs": [],
   "source": [
    "#delete timestamp column\n",
    "del data['timestamp']"
   ]
  },
  {
   "cell_type": "code",
   "execution_count": 78,
   "id": "c3eddb41",
   "metadata": {},
   "outputs": [
    {
     "data": {
      "text/plain": [
       "1928"
      ]
     },
     "execution_count": 78,
     "metadata": {},
     "output_type": "execute_result"
    }
   ],
   "source": [
    "# how many users in the control group viewed the new page (experiment error)\n",
    "((data['group_type'] == 'control') & (data['landing_page'] == 'new_page')).sum()"
   ]
  },
  {
   "cell_type": "code",
   "execution_count": 79,
   "id": "9472c36a",
   "metadata": {},
   "outputs": [
    {
     "data": {
      "text/plain": [
       "1965"
      ]
     },
     "execution_count": 79,
     "metadata": {},
     "output_type": "execute_result"
    }
   ],
   "source": [
    "# how many users in the treatment group viewed the old page (experiment error)\n",
    "((data['group_type'] == 'treatment') & (data['landing_page'] == 'old_page')).sum()"
   ]
  },
  {
   "cell_type": "code",
   "execution_count": 80,
   "id": "7d6f49b5",
   "metadata": {},
   "outputs": [],
   "source": [
    "# copy data in data_backup\n",
    "data_backup = data.copy()"
   ]
  },
  {
   "cell_type": "code",
   "execution_count": 81,
   "id": "87c26a03",
   "metadata": {},
   "outputs": [],
   "source": [
    "# make function to remove invlalid data\n",
    "def remove_invalid_data(df):\n",
    "  \"\"\"\n",
    "    Removes rows where:\n",
    "    - control group saw the new page\n",
    "    - treatment group saw the old page\n",
    "  \"\"\"\n",
    "  df = df.loc[~((df['group_type'] == 'control') & (df['landing_page']== 'new_page'))]\n",
    "  df = df.loc[~((df['group_type'] == 'treatment') & (df['landing_page']== 'old_page'))]\n",
    "\n",
    "  return df"
   ]
  },
  {
   "cell_type": "code",
   "execution_count": 82,
   "id": "36ea7911",
   "metadata": {},
   "outputs": [],
   "source": [
    "#calling function and save it in data\n",
    "data = remove_invalid_data(data)"
   ]
  },
  {
   "cell_type": "code",
   "execution_count": 83,
   "id": "07d0d82c",
   "metadata": {},
   "outputs": [
    {
     "data": {
      "text/plain": [
       "0"
      ]
     },
     "execution_count": 83,
     "metadata": {},
     "output_type": "execute_result"
    }
   ],
   "source": [
    "#check again for  how many users in the control group viewed the new page (experiment error)\n",
    "((data['group_type'] == 'control') & (data['landing_page'] == 'new_page')).sum()"
   ]
  },
  {
   "cell_type": "code",
   "execution_count": 84,
   "id": "8f42c90a",
   "metadata": {},
   "outputs": [
    {
     "data": {
      "text/plain": [
       "0"
      ]
     },
     "execution_count": 84,
     "metadata": {},
     "output_type": "execute_result"
    }
   ],
   "source": [
    "#check again for how many users in the treatment group viewed the old page (experiment error)\n",
    "((data['group_type'] == 'treatment') & (data['landing_page'] == 'old_page')).sum()"
   ]
  },
  {
   "cell_type": "code",
   "execution_count": 85,
   "id": "9f0bf620",
   "metadata": {},
   "outputs": [],
   "source": [
    "# copy data in data_backup\n",
    "data_backup = data.copy()"
   ]
  },
  {
   "cell_type": "code",
   "execution_count": 86,
   "id": "3d09f986",
   "metadata": {},
   "outputs": [
    {
     "data": {
      "text/html": [
       "<div>\n",
       "<style scoped>\n",
       "    .dataframe tbody tr th:only-of-type {\n",
       "        vertical-align: middle;\n",
       "    }\n",
       "\n",
       "    .dataframe tbody tr th {\n",
       "        vertical-align: top;\n",
       "    }\n",
       "\n",
       "    .dataframe thead th {\n",
       "        text-align: right;\n",
       "    }\n",
       "</style>\n",
       "<table border=\"1\" class=\"dataframe\">\n",
       "  <thead>\n",
       "    <tr style=\"text-align: right;\">\n",
       "      <th></th>\n",
       "      <th>user_id</th>\n",
       "      <th>group_type</th>\n",
       "      <th>landing_page</th>\n",
       "      <th>converted</th>\n",
       "    </tr>\n",
       "  </thead>\n",
       "  <tbody>\n",
       "    <tr>\n",
       "      <th>0</th>\n",
       "      <td>851104</td>\n",
       "      <td>control</td>\n",
       "      <td>old_page</td>\n",
       "      <td>0</td>\n",
       "    </tr>\n",
       "    <tr>\n",
       "      <th>1</th>\n",
       "      <td>804228</td>\n",
       "      <td>control</td>\n",
       "      <td>old_page</td>\n",
       "      <td>0</td>\n",
       "    </tr>\n",
       "    <tr>\n",
       "      <th>2</th>\n",
       "      <td>661590</td>\n",
       "      <td>treatment</td>\n",
       "      <td>new_page</td>\n",
       "      <td>0</td>\n",
       "    </tr>\n",
       "    <tr>\n",
       "      <th>3</th>\n",
       "      <td>853541</td>\n",
       "      <td>treatment</td>\n",
       "      <td>new_page</td>\n",
       "      <td>0</td>\n",
       "    </tr>\n",
       "    <tr>\n",
       "      <th>4</th>\n",
       "      <td>864975</td>\n",
       "      <td>control</td>\n",
       "      <td>old_page</td>\n",
       "      <td>1</td>\n",
       "    </tr>\n",
       "    <tr>\n",
       "      <th>5</th>\n",
       "      <td>936923</td>\n",
       "      <td>control</td>\n",
       "      <td>old_page</td>\n",
       "      <td>0</td>\n",
       "    </tr>\n",
       "    <tr>\n",
       "      <th>6</th>\n",
       "      <td>679687</td>\n",
       "      <td>treatment</td>\n",
       "      <td>new_page</td>\n",
       "      <td>1</td>\n",
       "    </tr>\n",
       "    <tr>\n",
       "      <th>7</th>\n",
       "      <td>719014</td>\n",
       "      <td>control</td>\n",
       "      <td>old_page</td>\n",
       "      <td>0</td>\n",
       "    </tr>\n",
       "    <tr>\n",
       "      <th>8</th>\n",
       "      <td>817355</td>\n",
       "      <td>treatment</td>\n",
       "      <td>new_page</td>\n",
       "      <td>1</td>\n",
       "    </tr>\n",
       "    <tr>\n",
       "      <th>9</th>\n",
       "      <td>839785</td>\n",
       "      <td>treatment</td>\n",
       "      <td>new_page</td>\n",
       "      <td>1</td>\n",
       "    </tr>\n",
       "  </tbody>\n",
       "</table>\n",
       "</div>"
      ],
      "text/plain": [
       "   user_id group_type landing_page  converted\n",
       "0   851104    control     old_page          0\n",
       "1   804228    control     old_page          0\n",
       "2   661590  treatment     new_page          0\n",
       "3   853541  treatment     new_page          0\n",
       "4   864975    control     old_page          1\n",
       "5   936923    control     old_page          0\n",
       "6   679687  treatment     new_page          1\n",
       "7   719014    control     old_page          0\n",
       "8   817355  treatment     new_page          1\n",
       "9   839785  treatment     new_page          1"
      ]
     },
     "execution_count": 86,
     "metadata": {},
     "output_type": "execute_result"
    }
   ],
   "source": [
    "data.head(10)"
   ]
  },
  {
   "cell_type": "markdown",
   "id": "c613f458",
   "metadata": {},
   "source": [
    " Conversion Rate Analysis"
   ]
  },
  {
   "cell_type": "code",
   "execution_count": 99,
   "id": "fcac99cb",
   "metadata": {},
   "outputs": [
    {
     "data": {
      "text/html": [
       "<div>\n",
       "<style scoped>\n",
       "    .dataframe tbody tr th:only-of-type {\n",
       "        vertical-align: middle;\n",
       "    }\n",
       "\n",
       "    .dataframe tbody tr th {\n",
       "        vertical-align: top;\n",
       "    }\n",
       "\n",
       "    .dataframe thead th {\n",
       "        text-align: right;\n",
       "    }\n",
       "</style>\n",
       "<table border=\"1\" class=\"dataframe\">\n",
       "  <thead>\n",
       "    <tr style=\"text-align: right;\">\n",
       "      <th></th>\n",
       "      <th></th>\n",
       "      <th>user_id</th>\n",
       "      <th>landing_page</th>\n",
       "    </tr>\n",
       "    <tr>\n",
       "      <th>group_type</th>\n",
       "      <th>converted</th>\n",
       "      <th></th>\n",
       "      <th></th>\n",
       "    </tr>\n",
       "  </thead>\n",
       "  <tbody>\n",
       "    <tr>\n",
       "      <th rowspan=\"2\" valign=\"top\">control</th>\n",
       "      <th>0</th>\n",
       "      <td>127785</td>\n",
       "      <td>127785</td>\n",
       "    </tr>\n",
       "    <tr>\n",
       "      <th>1</th>\n",
       "      <td>17489</td>\n",
       "      <td>17489</td>\n",
       "    </tr>\n",
       "    <tr>\n",
       "      <th rowspan=\"2\" valign=\"top\">treatment</th>\n",
       "      <th>0</th>\n",
       "      <td>128047</td>\n",
       "      <td>128047</td>\n",
       "    </tr>\n",
       "    <tr>\n",
       "      <th>1</th>\n",
       "      <td>17264</td>\n",
       "      <td>17264</td>\n",
       "    </tr>\n",
       "  </tbody>\n",
       "</table>\n",
       "</div>"
      ],
      "text/plain": [
       "                      user_id  landing_page\n",
       "group_type converted                       \n",
       "control    0           127785        127785\n",
       "           1            17489         17489\n",
       "treatment  0           128047        128047\n",
       "           1            17264         17264"
      ]
     },
     "execution_count": 99,
     "metadata": {},
     "output_type": "execute_result"
    }
   ],
   "source": [
    "conversion_rate = data.groupby(['group_type' ,'converted']).count()\n",
    "conversion_rate"
   ]
  },
  {
   "cell_type": "code",
   "execution_count": 88,
   "id": "e4570e5b",
   "metadata": {},
   "outputs": [
    {
     "name": "stdout",
     "output_type": "stream",
     "text": [
      "Control Conversion Rate: 0.1204\n",
      "Treatment Conversion Rate: 0.1188\n",
      "Control group (old page) has a higher conversion rate.\n"
     ]
    }
   ],
   "source": [
    "# Number of conversions in each group\n",
    "control_converted = 17489\n",
    "control_total = 127785 + 17489\n",
    "\n",
    "treatment_converted = 17264\n",
    "treatment_total = 128047 + 17264\n",
    "\n",
    "# Calculate conversion rate\n",
    "control_rate = control_converted / control_total\n",
    "treatment_rate = treatment_converted / treatment_total\n",
    "\n",
    "# Print results\n",
    "print(f\"Control Conversion Rate: {control_rate:.4f}\")\n",
    "print(f\"Treatment Conversion Rate: {treatment_rate:.4f}\")\n",
    "\n",
    "#  comparison check for whats bigger in rate treatment or control\n",
    "if treatment_rate > control_rate:\n",
    "    print(\"Treatment group (new page) has a higher conversion rate.\")\n",
    "else:\n",
    "    print(\"Control group (old page) has a higher conversion rate.\")"
   ]
  },
  {
   "cell_type": "code",
   "execution_count": 89,
   "id": "b103cd30",
   "metadata": {},
   "outputs": [],
   "source": [
    "# # Split the data into control and treatment groups based on 'group_type'\n",
    "control_group = data[data['group_type']== 'control']\n",
    "treatment_group = data[data['group_type'] == 'treatment'] "
   ]
  },
  {
   "cell_type": "markdown",
   "id": "5c9e1284",
   "metadata": {},
   "source": [
    "Visualization"
   ]
  },
  {
   "cell_type": "code",
   "execution_count": 90,
   "id": "3d4953b1",
   "metadata": {},
   "outputs": [
    {
     "data": {
      "image/png": "[encoded data removed]",
      "text/plain": [
       "<Figure size 600x400 with 1 Axes>"
      ]
     },
     "metadata": {},
     "output_type": "display_data"
    }
   ],
   "source": [
    "# Calculate the conversion rate for each group (control and treatment)\n",
    "conversion_rates = data.groupby('group_type')['converted'].mean().reset_index()\n",
    "\n",
    "# Plot a Bar Plot\n",
    "plt.figure(figsize=(6,4))\n",
    "sns.barplot(x='group_type', y='converted', data=conversion_rates)\n",
    "plt.title('Conversion Rate by Group')\n",
    "plt.ylabel('Conversion Rate')\n",
    "plt.xlabel('Group Type')\n",
    "plt.show()"
   ]
  },
  {
   "cell_type": "markdown",
   "id": "375c823d",
   "metadata": {},
   "source": [
    "This bar plot displays the conversion rates for the control group (old page) and the treatment group (new page). It visually compares the proportion of users who converted in each group, helping to understand which page performed better in the A/B test.\n"
   ]
  },
  {
   "cell_type": "markdown",
   "id": "b4797bef",
   "metadata": {},
   "source": [
    "Sampling for t-test"
   ]
  },
  {
   "cell_type": "code",
   "execution_count": 91,
   "id": "35656cd5",
   "metadata": {},
   "outputs": [],
   "source": [
    "# # Take random samples of 1000 rows from each group to ensure balanced comparison\n",
    "control_group = control_group.sample(n = 1000, random_state= 42)\n",
    "treatment_group = treatment_group.sample(n = 1000, random_state= 42)"
   ]
  },
  {
   "cell_type": "code",
   "execution_count": 92,
   "id": "df46e746",
   "metadata": {},
   "outputs": [
    {
     "data": {
      "text/plain": [
       "0.11"
      ]
     },
     "execution_count": 92,
     "metadata": {},
     "output_type": "execute_result"
    }
   ],
   "source": [
    "# Calculate the conversion rate for the control group\n",
    "control_mean = control_group['converted'].mean()\n",
    "control_mean"
   ]
  },
  {
   "cell_type": "code",
   "execution_count": 93,
   "id": "9527691e",
   "metadata": {},
   "outputs": [
    {
     "data": {
      "text/plain": [
       "0.118"
      ]
     },
     "execution_count": 93,
     "metadata": {},
     "output_type": "execute_result"
    }
   ],
   "source": [
    "# Calculate the conversion rate for the treatment group\n",
    "treatment_mean = treatment_group['converted'].mean()\n",
    "treatment_mean"
   ]
  },
  {
   "cell_type": "code",
   "execution_count": 96,
   "id": "d7809ab7",
   "metadata": {},
   "outputs": [],
   "source": [
    "data_backup = data.copy()"
   ]
  },
  {
   "cell_type": "markdown",
   "id": "a5cff3d9",
   "metadata": {},
   "source": [
    " Hypothesis Testing"
   ]
  },
  {
   "cell_type": "markdown",
   "id": "bf4654ef",
   "metadata": {},
   "source": [
    "**Null Hypothesis (H0):**  There is no difference in the conversion rates between the control group and the treatment group.  \n",
    "\n",
    "**Alternative Hypothesis (H1):**  There is a difference in the conversion rates between the control group and the treatment group.  \n"
   ]
  },
  {
   "cell_type": "code",
   "execution_count": 97,
   "id": "cbe89ad5",
   "metadata": {},
   "outputs": [],
   "source": [
    "significance_level = 0.05"
   ]
  },
  {
   "cell_type": "code",
   "execution_count": 98,
   "id": "f84827b4",
   "metadata": {},
   "outputs": [
    {
     "data": {
      "text/plain": [
       "(-0.5626299509256636, 0.5737500723738465)"
      ]
     },
     "execution_count": 98,
     "metadata": {},
     "output_type": "execute_result"
    }
   ],
   "source": [
    "# Perform two-sample t-test (Welch's t-test) to compare group means\n",
    "tstat, pvalue = stats.ttest_ind(control_group['converted'],treatment_group['converted'], equal_var = False)\n",
    "tstat, pvalue"
   ]
  },
  {
   "cell_type": "markdown",
   "id": "2086d9e8",
   "metadata": {},
   "source": [
    "# 📚 Interpretation\n",
    "\n",
    "### T-test Results\n",
    "\n",
    "- **T-statistic:** -0.56  \n",
    "- **P-value:** 0.57  \n",
    "\n",
    "### 📌 Conclusion:\n",
    "\n",
    "Since the p-value is greater than 0.05, we **fail to reject the null hypothesis**. This means there's no statistically significant difference in conversion rates between users who saw the old page and those who saw the new one.\n",
    "\n",
    "The company may decide to keep the old page, as it performs similarly to the new design in terms of conversion.\n",
    "\n",
    "---\n",
    "\n",
    "## 📌 Why Use a t-test?\n",
    "\n",
    "The **t-test** is suitable for comparing the means of two independent groups. Though `converted` is binary, the **mean of a binary variable** represents the **proportion**, making this valid. Welch’s version is chosen because it does **not assume equal variances** between groups.\n",
    "\n",
    "---\n",
    "\n",
    "## 🎯 Why Sample 1000 Users?\n",
    "\n",
    "- Avoid long runtime on large datasets.\n",
    "- Prevent overfitting on massive samples.\n",
    "- Balance group sizes fairly.\n",
    "- Ensure manageable, fast, and interpretable analysis.\n",
    "\n",
    "Random sampling ensures **representativeness** and **eliminates bias** due to time or ordering in data.\n",
    "\n",
    "This is a practical strategy for **exploratory analysis** — final production decisions may require testing on the **full dataset**.\n",
    "\n"
   ]
  }
 ],
 "metadata": {
  "kernelspec": {
   "display_name": "base",
   "language": "python",
   "name": "python3"
  },
  "language_info": {
   "codemirror_mode": {
    "name": "ipython",
    "version": 3
   },
   "file_extension": ".py",
   "mimetype": "text/x-python",
   "name": "python",
   "nbconvert_exporter": "python",
   "pygments_lexer": "ipython3",
   "version": "3.12.3"
  }
 },
 "nbformat": 4,
 "nbformat_minor": 5
}
